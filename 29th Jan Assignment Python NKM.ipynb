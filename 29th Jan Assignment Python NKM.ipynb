{
 "cells": [
  {
   "cell_type": "code",
   "execution_count": 4,
   "id": "8078a980",
   "metadata": {},
   "outputs": [],
   "source": [
    "#1.who developed python programming language?\n",
    "answer1=\"Guido van Rossum\""
   ]
  },
  {
   "cell_type": "code",
   "execution_count": 5,
   "id": "58089599",
   "metadata": {},
   "outputs": [],
   "source": [
    "#2.which type of programming does python support?\n",
    "answer2=\"Object oriented programming and structured programming \""
   ]
  },
  {
   "cell_type": "code",
   "execution_count": 8,
   "id": "8298298b",
   "metadata": {},
   "outputs": [],
   "source": [
    "#3.is python case sensitive when dealing with identifiers?\n",
    "answer3=\"\"\"Yes, Python is a case-sensitive language, i.e., it treats uppercase and lowercase characters differently.\n",
    "This applies to identifiers\"\"\""
   ]
  },
  {
   "cell_type": "code",
   "execution_count": 9,
   "id": "d46045a3",
   "metadata": {},
   "outputs": [],
   "source": [
    "#4.what is the correct extension of the python file?\n",
    "answer4=\".py\""
   ]
  },
  {
   "cell_type": "code",
   "execution_count": 10,
   "id": "02b86757",
   "metadata": {},
   "outputs": [],
   "source": [
    "#5.is python code compiled or interpreted?\n",
    "answer5=\"Python is an interpreted language.\""
   ]
  },
  {
   "cell_type": "code",
   "execution_count": 11,
   "id": "e7c87721",
   "metadata": {},
   "outputs": [],
   "source": [
    "#6.Name a few blocks of code used to define in python language?\n",
    "answer6=\"a module, a function body, and a class definition\""
   ]
  },
  {
   "cell_type": "code",
   "execution_count": 13,
   "id": "a8dcccfe",
   "metadata": {},
   "outputs": [],
   "source": [
    "#7.state character used to give single line comment in python?\n",
    "answer7=\"Hash character(#)\""
   ]
  },
  {
   "cell_type": "code",
   "execution_count": 14,
   "id": "dbc6acf4",
   "metadata": {},
   "outputs": [],
   "source": [
    "#8.mention functions which can help us to find the version of python that we are currently working on?\n",
    "answer8=\"sys.version\""
   ]
  },
  {
   "cell_type": "code",
   "execution_count": 15,
   "id": "a37d48d8",
   "metadata": {},
   "outputs": [],
   "source": [
    "#9.python supports the creation of anonymous functions at runtime using a construct called________?\n",
    "answer9=\"lambda\""
   ]
  },
  {
   "cell_type": "code",
   "execution_count": 16,
   "id": "9a1d5fb4",
   "metadata": {},
   "outputs": [],
   "source": [
    "#10.what does pip stand for python?\n",
    "answer10=\"preferred installer program\""
   ]
  },
  {
   "cell_type": "code",
   "execution_count": 17,
   "id": "dd17bec5",
   "metadata": {},
   "outputs": [],
   "source": [
    "#11.mention a few built in functions in python?\n",
    "answer11=\"print( ) function.type( ) function.input( ) function.\""
   ]
  },
  {
   "cell_type": "code",
   "execution_count": 18,
   "id": "ebb77364",
   "metadata": {},
   "outputs": [],
   "source": [
    "#12.what is the maximum possible length of an identifier in python?\n",
    "answer12=\"79 characters\""
   ]
  },
  {
   "cell_type": "code",
   "execution_count": 20,
   "id": "6de6b344",
   "metadata": {},
   "outputs": [],
   "source": [
    "#13.what are the benefits of using python?\n",
    "answer13=''''Python is a high-level, interpreted, and general-purpose dynamic programming language.\n",
    "That focuses on code readability.\n",
    "It generally has small programs when compared to Java and c.\n",
    "Python ranks among the most popular and fastest-growing languages in the world.\n",
    "Python is a powerful, flexible, and easy-to-use language.'''"
   ]
  },
  {
   "cell_type": "code",
   "execution_count": 21,
   "id": "65fa4e0d",
   "metadata": {},
   "outputs": [],
   "source": [
    "#14.how is memory managed in python?\n",
    "answer14=\"Memory management in Python involves a private heap containing all Python objects and data structures.\""
   ]
  },
  {
   "cell_type": "code",
   "execution_count": 22,
   "id": "1f687659",
   "metadata": {},
   "outputs": [],
   "source": [
    "#15.how to install python on windows and set path variable?\n",
    "answer15=\"\"\"\"Open a browser to the Python website and download the Windows installer.\n",
    "Double click on the downloaded file and install Python for all users, and ensure that Python is added to your path.\"\"\""
   ]
  },
  {
   "cell_type": "code",
   "execution_count": 23,
   "id": "5bc60cdb",
   "metadata": {},
   "outputs": [],
   "source": [
    "#16.is indentation required in python?\n",
    "answer16=\"\"\"\"Python indentation refers to adding white space before a statement to a particular block of code.\n",
    "In another word, all the statements with the same space to the right, belong to the same code block.\"\"\""
   ]
  },
  {
   "cell_type": "code",
   "execution_count": null,
   "id": "f3676d99",
   "metadata": {},
   "outputs": [],
   "source": [
    " "
   ]
  },
  {
   "cell_type": "code",
   "execution_count": 26,
   "id": "9b11e4b9",
   "metadata": {},
   "outputs": [
    {
     "data": {
      "text/plain": [
       "'Thank You'"
      ]
     },
     "execution_count": 26,
     "metadata": {},
     "output_type": "execute_result"
    }
   ],
   "source": [
    "\"Thank You\""
   ]
  },
  {
   "cell_type": "code",
   "execution_count": null,
   "id": "d1bb07d5",
   "metadata": {},
   "outputs": [],
   "source": []
  }
 ],
 "metadata": {
  "kernelspec": {
   "display_name": "Python 3 (ipykernel)",
   "language": "python",
   "name": "python3"
  },
  "language_info": {
   "codemirror_mode": {
    "name": "ipython",
    "version": 3
   },
   "file_extension": ".py",
   "mimetype": "text/x-python",
   "name": "python",
   "nbconvert_exporter": "python",
   "pygments_lexer": "ipython3",
   "version": "3.10.5"
  }
 },
 "nbformat": 4,
 "nbformat_minor": 5
}
